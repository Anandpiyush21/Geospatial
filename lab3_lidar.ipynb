{
 "cells": [
  {
   "cell_type": "code",
   "execution_count": 1,
   "metadata": {},
   "outputs": [
    {
     "name": "stdout",
     "output_type": "stream",
     "text": [
      "Jupyter environment detected. Enabling Open3D WebVisualizer.\n",
      "[Open3D INFO] WebRTC GUI backend enabled.\n",
      "[Open3D INFO] WebRTCWindowSystem: HTTP handshake server disabled.\n",
      "[Open3D WARNING] geometry::TriangleMesh appears to be a geometry::PointCloud (only contains vertices, but no triangles).\n"
     ]
    }
   ],
   "source": [
    "import open3d as o3d\n",
    "\n",
    "# Path to the PLY file\n",
    "file_path = \"fragment.ply\"\n",
    "\n",
    "# Load the .ply file\n",
    "mesh = o3d.io.read_triangle_mesh(file_path)\n",
    "\n",
    "point_cloud = o3d.io.read_point_cloud(file_path)\n",
    "o3d.visualization.draw_geometries([point_cloud], window_name=\"Point Cloud Visualization\")\n"
   ]
  },
  {
   "cell_type": "code",
   "execution_count": 2,
   "metadata": {},
   "outputs": [
    {
     "name": "stdout",
     "output_type": "stream",
     "text": [
      "Number of points: 4068294\n",
      "Header Information: <LasHeader(1.3, <PointFormat(1, 0 bytes of extra dims)>)>\n",
      "First 5 points: \n",
      "X: <ScaledArrayView([2353243.43 2353242.96 2353239.93 2353224.85 2353228.39])>, \n",
      "Y: <ScaledArrayView([1080352.64 1080353.47 1080352.96 1080353.5  1080353.08])>, \n",
      "Z: <ScaledArrayView([366.96 348.35 348.26 348.26 368.86])>\n"
     ]
    }
   ],
   "source": [
    "import laspy\n",
    "\n",
    "# Path to the .las file\n",
    "file_path = \"madison.las\"\n",
    "\n",
    "# Open the .las file\n",
    "with laspy.open(file_path) as las_file:\n",
    "    # Read the point cloud data\n",
    "    points = las_file.read()\n",
    "\n",
    "    # Print basic information about the .las file\n",
    "    print(f\"Number of points: {len(points)}\")\n",
    "    print(f\"Header Information: {las_file.header}\")\n",
    "\n",
    "    # Print some sample data (e.g., coordinates)\n",
    "    x = points.x\n",
    "    y = points.y\n",
    "    z = points.z\n",
    "    print(f\"First 5 points: \\nX: {x[:5]}, \\nY: {y[:5]}, \\nZ: {z[:5]}\")\n"
   ]
  },
  {
   "cell_type": "code",
   "execution_count": 3,
   "metadata": {},
   "outputs": [],
   "source": [
    "import open3d as o3d\n",
    "import numpy as np\n",
    "\n",
    "# Convert the LAS points to a numpy array for visualization\n",
    "points_np = np.vstack((points.x, points.y, points.z)).transpose()\n",
    "\n",
    "# Create an Open3D PointCloud object\n",
    "pcd = o3d.geometry.PointCloud()\n",
    "pcd.points = o3d.utility.Vector3dVector(points_np)\n",
    "\n",
    "# Visualize the point cloud\n",
    "o3d.visualization.draw_geometries([pcd], window_name=\"LiDAR Point Cloud\")\n"
   ]
  },
  {
   "cell_type": "code",
   "execution_count": 4,
   "metadata": {},
   "outputs": [
    {
     "name": "stdout",
     "output_type": "stream",
     "text": [
      "Point count: 4068294\n",
      "Bounding box: [2.35299999e+06 1.07550000e+06 3.21950000e+02] to [2.35799999e+06 1.08049999e+06 5.04200000e+02]\n"
     ]
    }
   ],
   "source": [
    "import laspy\n",
    "\n",
    "las =  laspy.open(\"madison.las\") \n",
    "\n",
    "print(f\"Point count: {las.header.point_count}\")\n",
    "print(f\"Bounding box: {las.header.mins} to {las.header.maxs}\")\n"
   ]
  },
  {
   "cell_type": "code",
   "execution_count": 5,
   "metadata": {},
   "outputs": [
    {
     "name": "stdout",
     "output_type": "stream",
     "text": [
      "Sample of the point cloud data:\n",
      "            X           Y       Z  Intensity\n",
      "0  2353243.43  1080352.64  366.96          9\n",
      "1  2353242.96  1080353.47  348.35         41\n",
      "2  2353239.93  1080352.96  348.26         24\n",
      "3  2353224.85  1080353.50  348.26         32\n",
      "4  2353228.39  1080353.08  368.86          4\n"
     ]
    }
   ],
   "source": [
    "import laspy  # Library to work with LAS/LAZ files\n",
    "import pandas as pd  # For organizing data into a structured format\n",
    "\n",
    "# Step 1: Open the LAS file\n",
    "file_path = \"madison.las\"  # Path to the LAS file\n",
    "with laspy.open(file_path) as las_file:\n",
    "    # Step 2: Read all the points\n",
    "    point_data = las_file.read()\n",
    "\n",
    "# Step 3: Extract X, Y, Z, and intensity values\n",
    "x_coords = point_data.x\n",
    "y_coords = point_data.y\n",
    "z_coords = point_data.z\n",
    "intensities = point_data.intensity\n",
    "\n",
    "# Step 4: Organize data into a structured format (DataFrame for better readability)\n",
    "data = pd.DataFrame({\n",
    "    \"X\": x_coords,\n",
    "    \"Y\": y_coords,\n",
    "    \"Z\": z_coords,\n",
    "    \"Intensity\": intensities\n",
    "})\n",
    "\n",
    "# Step 5: Display the first few rows of the data\n",
    "print(\"Sample of the point cloud data:\")\n",
    "print(data.head())  # Print the first 5 rows for a preview\n"
   ]
  }
 ],
 "metadata": {
  "kernelspec": {
   "display_name": "gda",
   "language": "python",
   "name": "python3"
  },
  "language_info": {
   "codemirror_mode": {
    "name": "ipython",
    "version": 3
   },
   "file_extension": ".py",
   "mimetype": "text/x-python",
   "name": "python",
   "nbconvert_exporter": "python",
   "pygments_lexer": "ipython3",
   "version": "3.6.13"
  }
 },
 "nbformat": 4,
 "nbformat_minor": 2
}
